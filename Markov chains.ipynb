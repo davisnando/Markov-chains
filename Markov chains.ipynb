{
 "cells": [
  {
   "cell_type": "code",
   "execution_count": 1,
   "metadata": {},
   "outputs": [],
   "source": [
    "import numpy as np\n",
    "\n",
    "import random"
   ]
  },
  {
   "cell_type": "markdown",
   "metadata": {},
   "source": [
    "Maak een class aan voor de markov chain\n",
    "Deze class berekent alles\n",
    "\n",
    "Hij zet de begin toestand, Genereert x aantal toestanden, Telt elke genereerde toestand en print de percentages van elke toestand hoevaak ze voor zijn gekomen\n"
   ]
  },
  {
   "cell_type": "code",
   "execution_count": 2,
   "metadata": {},
   "outputs": [],
   "source": [
    "\n",
    "class Chain:\n",
    "    def __init__(self, percentageMatrix, states):\n",
    "        self.percentageMatrix = percentageMatrix\n",
    "        self.states = states\n",
    "        # sum all percentages and raise error if sum is not 1\n",
    "        for percentages in self.percentageMatrix:\n",
    "            if sum(percentages) != 1:\n",
    "                raise Exception(\n",
    "                    \"Every list in percentage matrix needs to have a sum of 1. This list is not correct {}\".format(\n",
    "                        percentages\n",
    "                    )\n",
    "                )\n",
    "        self.state = \"\"\n",
    "\n",
    "    def setState(self, indexState):\n",
    "        self.state = self.states[indexState]\n",
    "\n",
    "    def guess(self, times):\n",
    "        # guess values\n",
    "        values = []\n",
    "        for i in range(0, times):\n",
    "            # why get only 1 random choice\n",
    "            # Its guesses a state and then it sets the current state\n",
    "            # so it loops through all states instead getting only the percentages of one state\n",
    "            value = np.random.choice(\n",
    "                self.states, 1, p=self.percentageMatrix[self.states.index(self.state)]\n",
    "            )\n",
    "            values.append(value[0])\n",
    "            self.state = value[0]\n",
    "        return values\n",
    "\n",
    "    def count_geusses(self, guesses):\n",
    "        # counting every guess\n",
    "        count = {}\n",
    "        for item in guesses:\n",
    "            if item in count:\n",
    "                count[item] += 1\n",
    "            else:\n",
    "                count[item] = 1\n",
    "        return count\n",
    "\n",
    "    def print_percentages(self, guesses, x):\n",
    "        # calculating percentage of all guesses\n",
    "        data = self.count_geusses(guesses)\n",
    "        for item in self.states:\n",
    "            print(\"{} has a percentage of: {}%\".format(item, data[item] / x * 100))\n"
   ]
  },
  {
   "cell_type": "code",
   "execution_count": 3,
   "metadata": {},
   "outputs": [
    {
     "name": "stdout",
     "output_type": "stream",
     "text": [
      "Hongerig has a percentage of: 71.2%\n",
      "Tevreden has a percentage of: 17.9%\n",
      "Opgejaagd has a percentage of: 10.9%\n"
     ]
    }
   ],
   "source": [
    "percentagematrix = [[0.8, 0.1, 0.1], [0.4, 0.5, 0.1], [0.6, 0.2, 0.2]]\n",
    "states = [\"Hongerig\", \"Tevreden\", \"Opgejaagd\"]\n",
    "\n",
    "chain = Chain(percentagematrix, states)\n",
    "chain.state = np.random.choice(states, 1, p=[0.7, 0.1, 0.2])\n",
    "\n",
    "\n",
    "guesses = chain.guess(1000)\n",
    "\n",
    "chain.print_percentages(guesses, 1000)"
   ]
  },
  {
   "cell_type": "markdown",
   "metadata": {},
   "source": [
    "Hieronder voeg ik een extra toestand toe \"Verdrietig\""
   ]
  },
  {
   "cell_type": "code",
   "execution_count": 4,
   "metadata": {},
   "outputs": [
    {
     "name": "stdout",
     "output_type": "stream",
     "text": [
      "\n",
      "=======================\n",
      "Adding Verdrietig state\n",
      "=======================\n",
      "\n",
      "Hongerig has a percentage of: 54.0%\n",
      "Tevreden has a percentage of: 14.7%\n",
      "Opgejaagd has a percentage of: 11.5%\n",
      "Verdrietig has a percentage of: 19.8%\n"
     ]
    }
   ],
   "source": [
    "# adding an extra state\n",
    "print()\n",
    "print(\"=======================\")\n",
    "print(\"Adding Verdrietig state\")\n",
    "print(\"=======================\")\n",
    "print()\n",
    "\n",
    "percentagematrix = [\n",
    "    [0.6, 0.1, 0.1, 0.2],\n",
    "    [0.4, 0.3, 0.1, 0.2],\n",
    "    [0.4, 0.2, 0.2, 0.2],\n",
    "    [0.6, 0.1, 0.1, 0.2],\n",
    "]\n",
    "states = [\"Hongerig\", \"Tevreden\", \"Opgejaagd\", \"Verdrietig\"]\n",
    "\n",
    "chain = Chain(percentagematrix, states)\n",
    "chain.state = np.random.choice(states, 1, p=[0.6, 0.1, 0.2, 0.1])\n",
    "\n",
    "guesses = chain.guess(1000)\n",
    "\n",
    "chain.print_percentages(guesses, 1000)\n"
   ]
  },
  {
   "cell_type": "markdown",
   "metadata": {},
   "source": [
    "# Bayes\n",
    "\n",
    "Hieronder word een bayes zwanger toegevoegd met een percentage van 25%\n"
   ]
  },
  {
   "cell_type": "code",
   "execution_count": 5,
   "metadata": {},
   "outputs": [
    {
     "name": "stdout",
     "output_type": "stream",
     "text": [
      "\n",
      "=======================\n",
      "Adding Bayes Zwanger\n",
      "=======================\n",
      "\n",
      "Hongerig has a percentage of: 70.8%\n",
      "Tevreden has a percentage of: 17.7%\n",
      "Opgejaagd has a percentage of: 11.5%\n"
     ]
    }
   ],
   "source": [
    "\n",
    "# adding bayes\n",
    "print()\n",
    "print(\"=======================\")\n",
    "print(\"Adding Bayes Zwanger\")\n",
    "print(\"=======================\")\n",
    "print()\n",
    "\n",
    "\n",
    "percentagematrix = [[0.8, 0.1, 0.1], [0.4, 0.5, 0.1], [0.6, 0.2, 0.2]]\n",
    "\n",
    "states = [\"Hongerig\", \"Tevreden\", \"Opgejaagd\"]\n",
    "\n",
    "chain = Chain(percentagematrix, states)\n",
    "\n",
    "is_zwanger = np.random.choice([True, False], 1, p=[0.25, 0.75])[0]\n",
    "if is_zwanger:\n",
    "    chain.state = np.random.choice(states, 1, p=[0.7, 0.1, 0.2])\n",
    "else:\n",
    "    chain.state = np.random.choice(states, 1, p=[0.5, 0.35, 0.15])\n",
    "\n",
    "guesses = chain.guess(1000)\n",
    "\n",
    "chain.print_percentages(guesses, 1000)\n"
   ]
  },
  {
   "cell_type": "code",
   "execution_count": null,
   "metadata": {},
   "outputs": [],
   "source": []
  }
 ],
 "metadata": {
  "kernelspec": {
   "display_name": "Python 3",
   "language": "python",
   "name": "python3"
  },
  "language_info": {
   "codemirror_mode": {
    "name": "ipython",
    "version": 3
   },
   "file_extension": ".py",
   "mimetype": "text/x-python",
   "name": "python",
   "nbconvert_exporter": "python",
   "pygments_lexer": "ipython3",
   "version": "3.7.3"
  }
 },
 "nbformat": 4,
 "nbformat_minor": 2
}
